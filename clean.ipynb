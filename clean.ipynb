{
 "cells": [
  {
   "cell_type": "code",
   "execution_count": 1,
   "id": "2ddbc081",
   "metadata": {},
   "outputs": [],
   "source": [
    "import pandas as pd\n",
    "import glob\n",
    "import os\n",
    "from functools import reduce"
   ]
  },
  {
   "cell_type": "code",
   "execution_count": null,
   "id": "bbb5f29e",
   "metadata": {},
   "outputs": [],
   "source": [
    "DATA_DIR = \"Datasets/\"\n",
    "\n",
    "paths = glob.glob(os.path.join(DATA_DIR, \"lka_*_2020*.csv\")) + \\\n",
    "        glob.glob(os.path.join(DATA_DIR, \"lka_*_2020*.xlsx\"))\n",
    "\n",
    "LAYER_MAP = {\n",
    "    \"lka_general_2020\":\"pop_overall\",\n",
    "    \"lka_men_2020\":\"pop_men\",\n",
    "    \"lka_women_2020\":\"pop_women\",\n",
    "    \"lka_children_under_five_2020\":\"pop_0_5\",\n",
    "    \"lka_youth_15_24_2020\":\"pop_15_24\",\n",
    "    \"lka_elderly_60_plus_2020\":\"pop_60_plus\",\n",
    "    \"lka_women_of_reproductive_age_15_49_2020\":\"pop_women_15_49\",\n",
    "}"
   ]
  },
  {
   "cell_type": "code",
   "execution_count": 3,
   "id": "bd948241",
   "metadata": {},
   "outputs": [
    {
     "name": "stdout",
     "output_type": "stream",
     "text": [
      "✅ Cleaned data written to Datasets/cleaned_lka_2020_population_layers.csv\n"
     ]
    }
   ],
   "source": [
    "dfs = []\n",
    "for fp in paths:\n",
    "    fname = os.path.basename(fp).split(\".\")[0]\n",
    "    if fname not in LAYER_MAP:\n",
    "        continue\n",
    "    \n",
    "    short = LAYER_MAP[fname]\n",
    "    \n",
    "    if fp.lower().endswith(\".csv\"):\n",
    "        df = pd.read_csv(fp)\n",
    "    else:\n",
    "        df = pd.read_excel(fp)\n",
    "    \n",
    "    value_col = df.columns[-1]\n",
    "    \n",
    "    df = df[[\"longitude\", \"latitude\", value_col]].rename(columns={value_col: short})\n",
    "    \n",
    "    dfs.append(df)\n",
    "\n",
    "clean = reduce(\n",
    "    lambda left, right: pd.merge(left, right, on=[\"longitude\", \"latitude\"], how=\"outer\"),\n",
    "    dfs\n",
    ")\n",
    "\n",
    "clean = clean.drop_duplicates(subset=[\"longitude\", \"latitude\"])\n",
    "clean = clean.dropna(subset=[\"longitude\", \"latitude\"])\n",
    "clean = clean.fillna(0)\n",
    "\n",
    "out_path = os.path.join(DATA_DIR, \"cleaned_lka_2020_population_layers.csv\")\n",
    "clean.to_csv(out_path, index=False)\n",
    "print(f\"✅ Cleaned data written to {out_path}\")"
   ]
  },
  {
   "cell_type": "code",
   "execution_count": null,
   "id": "a722a632",
   "metadata": {},
   "outputs": [],
   "source": [
    "dfs = []\n",
    "for fp in paths:\n",
    "    fname = os.path.basename(fp).split(\".\")[0]\n",
    "    if fname not in LAYER_MAP:\n",
    "        continue\n",
    "    short = LAYER_MAP[fname]\n",
    "    if fp.lower().endswith(\".csv\"):\n",
    "        df = pd.read_csv(fp)\n",
    "    else:\n",
    "        df = pd.read_excel(fp)\n",
    "    value_col = df.columns[-1]\n",
    "    df = df[[\"longitude\", \"latitude\", value_col]].rename(columns={value_col: short})\n",
    "    dfs.append(df)\n",
    "\n",
    "clean = reduce(\n",
    "    lambda left, right: pd.merge(left, right, on=[\"longitude\", \"latitude\"], how=\"outer\"),\n",
    "    dfs\n",
    ")\n",
    "\n",
    "clean.dropna(subset=[\"longitude\", \"latitude\"], inplace=True)\n",
    "clean.drop_duplicates(subset=[\"longitude\", \"latitude\"], inplace=True)\n",
    "\n",
    "if len(clean) > 50000:\n",
    "    clean = clean.sample(n=50000, random_state=42).reset_index(drop=True)\n",
    "\n",
    "clean.fillna(0, inplace=True)\n",
    "\n",
    "output_path = os.path.join(DATA_DIR, \"cleaned_lka_2020_subset_50000.csv\")\n",
    "clean.to_csv(output_path, index=False)\n",
    "\n",
    "print(f\"✅ Cleaned and sampled data written to {output_path}\")"
   ]
  }
 ],
 "metadata": {
  "kernelspec": {
   "display_name": ".venv",
   "language": "python",
   "name": "python3"
  },
  "language_info": {
   "codemirror_mode": {
    "name": "ipython",
    "version": 3
   },
   "file_extension": ".py",
   "mimetype": "text/x-python",
   "name": "python",
   "nbconvert_exporter": "python",
   "pygments_lexer": "ipython3",
   "version": "3.12.4"
  }
 },
 "nbformat": 4,
 "nbformat_minor": 5
}
